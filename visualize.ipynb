{
 "cells": [
  {
   "cell_type": "code",
   "execution_count": 1,
   "metadata": {},
   "outputs": [
    {
     "name": "stderr",
     "output_type": "stream",
     "text": [
      "/home/ericyu8817/env/lib/python3.8/site-packages/tqdm/auto.py:21: TqdmWarning: IProgress not found. Please update jupyter and ipywidgets. See https://ipywidgets.readthedocs.io/en/stable/user_install.html\n",
      "  from .autonotebook import tqdm as notebook_tqdm\n",
      "/home/ericyu8817/env/lib/python3.8/site-packages/huggingface_hub/file_download.py:1132: FutureWarning: `resume_download` is deprecated and will be removed in version 1.0.0. Downloads always resume when possible. If you want to force a new download, use `force_download=True`.\n",
      "  warnings.warn(\n"
     ]
    }
   ],
   "source": [
    "from transformers import BertTokenizer, BertModel, AutoTokenizer, DebertaModel, AutoModel, PreTrainedModel\n",
    "\n",
    "from cotraining import load_data\n",
    "\n",
    "tokenizer = AutoTokenizer.from_pretrained(\"microsoft/deberta-base\")\n",
    "model = AutoModel.from_pretrained(\"microsoft/deberta-base\")"
   ]
  },
  {
   "cell_type": "code",
   "execution_count": 5,
   "metadata": {},
   "outputs": [
    {
     "data": {
      "text/plain": [
       "tensor([[[ 0.0423, -0.0172, -0.0830,  ...,  0.0057,  0.0807, -0.0638],\n",
       "         [-0.8083, -0.2651, -0.4412,  ...,  0.8023,  0.1938,  0.1042],\n",
       "         [-0.9778,  0.1947, -0.0231,  ...,  1.5448, -0.1113,  0.1910],\n",
       "         [-0.0863,  0.4805, -0.1830,  ...,  1.3920,  0.8504,  0.5436],\n",
       "         [-0.2110, -0.0336, -0.2093,  ...,  1.6628,  0.4952, -0.1521],\n",
       "         [ 0.2175,  0.0743, -0.1164,  ...,  0.0609,  0.1981,  0.0529]]],\n",
       "       grad_fn=<AddBackward0>)"
      ]
     },
     "execution_count": 5,
     "metadata": {},
     "output_type": "execute_result"
    }
   ],
   "source": []
  },
  {
   "cell_type": "code",
   "execution_count": null,
   "metadata": {},
   "outputs": [],
   "source": [
    "from cotraining import deberta\n",
    "config = {\n",
    "    \"seed\": 42,\n",
    "    \"device\": 'cuda',\n",
    "    \"epoch\": 2000,\n",
    "\n",
    "    \"lm_type\": 'deberta-base',\n",
    "    \"lm_lr\": 1e-4,\n",
    "    \"lm_max_length\": 512,\n",
    "    \"lm_weight_decay\": 1e-4,\n",
    "    \"lm_padding\": True,\n",
    "    \"lm_truncation\": True,\n",
    "    \"lm_requires_grad\": False,\n",
    "\n",
    "    \"num_nodes\": 169343,\n",
    "    \"num_node_features\": 128,\n",
    "    \"gnn_h_feats\": 256,\n",
    "    \"gnn_lr\": 0.0005,\n",
    "    \"gnn_weight_decay\": 0,\n",
    "    \"gnn_dropout\": 0.5,\n",
    "    \"gnn_requires_grad\": True,\n",
    "    \"gnn_num_layers\":7,\n",
    "\n",
    "    \"once_batch_size\": 64,\n",
    "    \"once_shuffle\": True,\n",
    "    \"once_drop_last\": True,\n",
    "\n",
    "    \"train_batch_size\": 1024,\n",
    "    \"train_shuffle\": True,\n",
    "    \"train_drop_last\": True,\n",
    "\n",
    "    \"valid_batch_size\": 1024,\n",
    "    \"valid_shuffle\": True,\n",
    "    \"valid_drop_last\": True,\n",
    "\n",
    "    \"test_batch_size\": 1024,\n",
    "    \"test_shuffle\": True,\n",
    "    \"test_drop_last\": True,\n",
    "}\n",
    "\n",
    "def dict_to_namespace(d):\n",
    "    \"\"\"\n",
    "    Recursively converts a dictionary to a SimpleNamespace.\n",
    "    \n",
    "    Args:\n",
    "        d (dict): The dictionary to convert.\n",
    "        \n",
    "    Returns:\n",
    "        SimpleNamespace: The converted namespace.\n",
    "    \"\"\"\n",
    "    if isinstance(d, dict):\n",
    "        # Convert sub-dictionaries to SimpleNamespace recursively\n",
    "        return types.SimpleNamespace(**{k: dict_to_namespace(v) for k, v in d.items()})\n",
    "    else:\n",
    "        # Return non-dictionary values as-is\n",
    "        return d\n",
    "\n",
    "config = dict_to_namespace(config)\n",
    "\n",
    "model = deberta()\n"
   ]
  }
 ],
 "metadata": {
  "kernelspec": {
   "display_name": "Python 3",
   "language": "python",
   "name": "python3"
  },
  "language_info": {
   "codemirror_mode": {
    "name": "ipython",
    "version": 3
   },
   "file_extension": ".py",
   "mimetype": "text/x-python",
   "name": "python",
   "nbconvert_exporter": "python",
   "pygments_lexer": "ipython3",
   "version": "3.8.19"
  }
 },
 "nbformat": 4,
 "nbformat_minor": 2
}
